{
 "cells": [
  {
   "cell_type": "markdown",
   "metadata": {},
   "source": [
    "**Внимание!!!** Важно, что бы файлы с данными и исполняемый файл находились в одной папке, \n",
    "тогда пути к тестовым и тренировочным наборам будут содержать только имена файлов.\n",
    "\n",
    "В пути к тренировочным и тестовым данным запрежается использовать абсалютную адресацию, \n",
    "то есть адресацию, в которой присутствуют имена папок. Путь должен содержать только имя файла.\n",
    "\n",
    "Напоминание: под моделью машинного обучения понимаются все действия с исходными данными, \n",
    "которые необходимо произвести, что бы сопоставить признаки целевому значению.\n",
    "\n",
    "\n",
    "**ПОДБОР ПАРАМЕТРОВ В ОТДЕЛЬНЫХ ФАЙЛАХ**, важно там сохранять ramdom_seed для повторимости результата\n",
    "данные файлы обязательны к размещению в репозитории\n",
    "\n",
    "\n",
    "**ЦЕЛЬ РАБОТЫ** построить модель **не более, чем на 20 признаках!** \n",
    "\n",
    "В Датасете есть гарантировано шумящие столбцы. Их нужно найти и удалить. Важно сохранить имена оставщихся столбцов (далее - значимых столбцов).\n",
    "\n",
    "**Оценивается метрика MAPE, максимальная ошибка и найденые значимые для модели столбцы.**\n",
    "\n",
    "**Дополнительный балл** оценить вклад значимых признаков (из mask) в максимальную ошибку на тренировочном наборе train значимых признаков (shap)"
   ]
  },
  {
   "cell_type": "markdown",
   "metadata": {},
   "source": [
    "### Подключение библиотек"
   ]
  },
  {
   "cell_type": "code",
   "execution_count": 1,
   "metadata": {},
   "outputs": [],
   "source": [
    "# данный блок предназначен только для подключения необходимых библиотек\n",
    "# запрещается подключать библиотеки в других блоках\n",
    "#\n",
    "# установка дополнительных библиотек размещается прямо здесь (обязательно закоментированы)\n",
    "#\n",
    "# pip install"
   ]
  },
  {
   "cell_type": "code",
   "execution_count": 2,
   "metadata": {},
   "outputs": [],
   "source": [
    "import pandas as pd\n",
    "import numpy as np\n",
    "from sklearn.preprocessing import OneHotEncoder, PolynomialFeatures, RobustScaler\n",
    "from sklearn.pipeline import Pipeline\n",
    "from sklearn.compose import ColumnTransformer\n",
    "from sklearn.model_selection import train_test_split, GridSearchCV\n",
    "from sklearn.compose import make_column_transformer\n",
    "import matplotlib.pyplot as plt\n",
    "import seaborn as sns\n",
    "from sklearn.feature_selection  import RFE\n",
    "from sklearn.decomposition import PCA\n",
    "from sklearn.ensemble import RandomForestRegressor\n",
    "from sklearn.ensemble import GradientBoostingRegressor\n",
    "from sklearn.svm import LinearSVR"
   ]
  },
  {
   "cell_type": "markdown",
   "metadata": {},
   "source": [
    "### Обучение и выполнение лучшей модели"
   ]
  },
  {
   "cell_type": "code",
   "execution_count": 3,
   "metadata": {},
   "outputs": [],
   "source": [
    "# В области находится одна, единственная, итоговая модель машинного обучения с однозначными, \n",
    "# зафиксированными параметрами\n",
    "#\n",
    "# В данной области категорически запрещается искать, выбирать, улучшать, оптимизировать, \n",
    "# тюниговать и т.д. модель машинного обучения (тюник в сопровождающих файлах)"
   ]
  },
  {
   "cell_type": "code",
   "execution_count": 4,
   "metadata": {},
   "outputs": [],
   "source": [
    "path_train = 'train_house.csv'\n",
    "path_test = 'test_house.csv'\n",
    "\n",
    "df_train = pd.read_csv(path_train)\n",
    "X_test = pd.read_csv(path_test)"
   ]
  },
  {
   "cell_type": "code",
   "execution_count": 5,
   "metadata": {},
   "outputs": [],
   "source": [
    "# Блок(и) обучения и поверки модели, а также отбора необходимых значимых столбцов"
   ]
  },
  {
   "cell_type": "code",
   "execution_count": 6,
   "metadata": {},
   "outputs": [],
   "source": [
    "y = df_train['price']\n",
    "X = df_train.drop(columns=['price'])\n",
    "X_train, X_val, y_train, y_val = train_test_split(X, y, shuffle=True)"
   ]
  },
  {
   "cell_type": "code",
   "execution_count": 7,
   "metadata": {},
   "outputs": [
    {
     "data": {
      "text/html": [
       "<style>#sk-container-id-1 {color: black;background-color: white;}#sk-container-id-1 pre{padding: 0;}#sk-container-id-1 div.sk-toggleable {background-color: white;}#sk-container-id-1 label.sk-toggleable__label {cursor: pointer;display: block;width: 100%;margin-bottom: 0;padding: 0.3em;box-sizing: border-box;text-align: center;}#sk-container-id-1 label.sk-toggleable__label-arrow:before {content: \"▸\";float: left;margin-right: 0.25em;color: #696969;}#sk-container-id-1 label.sk-toggleable__label-arrow:hover:before {color: black;}#sk-container-id-1 div.sk-estimator:hover label.sk-toggleable__label-arrow:before {color: black;}#sk-container-id-1 div.sk-toggleable__content {max-height: 0;max-width: 0;overflow: hidden;text-align: left;background-color: #f0f8ff;}#sk-container-id-1 div.sk-toggleable__content pre {margin: 0.2em;color: black;border-radius: 0.25em;background-color: #f0f8ff;}#sk-container-id-1 input.sk-toggleable__control:checked~div.sk-toggleable__content {max-height: 200px;max-width: 100%;overflow: auto;}#sk-container-id-1 input.sk-toggleable__control:checked~label.sk-toggleable__label-arrow:before {content: \"▾\";}#sk-container-id-1 div.sk-estimator input.sk-toggleable__control:checked~label.sk-toggleable__label {background-color: #d4ebff;}#sk-container-id-1 div.sk-label input.sk-toggleable__control:checked~label.sk-toggleable__label {background-color: #d4ebff;}#sk-container-id-1 input.sk-hidden--visually {border: 0;clip: rect(1px 1px 1px 1px);clip: rect(1px, 1px, 1px, 1px);height: 1px;margin: -1px;overflow: hidden;padding: 0;position: absolute;width: 1px;}#sk-container-id-1 div.sk-estimator {font-family: monospace;background-color: #f0f8ff;border: 1px dotted black;border-radius: 0.25em;box-sizing: border-box;margin-bottom: 0.5em;}#sk-container-id-1 div.sk-estimator:hover {background-color: #d4ebff;}#sk-container-id-1 div.sk-parallel-item::after {content: \"\";width: 100%;border-bottom: 1px solid gray;flex-grow: 1;}#sk-container-id-1 div.sk-label:hover label.sk-toggleable__label {background-color: #d4ebff;}#sk-container-id-1 div.sk-serial::before {content: \"\";position: absolute;border-left: 1px solid gray;box-sizing: border-box;top: 0;bottom: 0;left: 50%;z-index: 0;}#sk-container-id-1 div.sk-serial {display: flex;flex-direction: column;align-items: center;background-color: white;padding-right: 0.2em;padding-left: 0.2em;position: relative;}#sk-container-id-1 div.sk-item {position: relative;z-index: 1;}#sk-container-id-1 div.sk-parallel {display: flex;align-items: stretch;justify-content: center;background-color: white;position: relative;}#sk-container-id-1 div.sk-item::before, #sk-container-id-1 div.sk-parallel-item::before {content: \"\";position: absolute;border-left: 1px solid gray;box-sizing: border-box;top: 0;bottom: 0;left: 50%;z-index: -1;}#sk-container-id-1 div.sk-parallel-item {display: flex;flex-direction: column;z-index: 1;position: relative;background-color: white;}#sk-container-id-1 div.sk-parallel-item:first-child::after {align-self: flex-end;width: 50%;}#sk-container-id-1 div.sk-parallel-item:last-child::after {align-self: flex-start;width: 50%;}#sk-container-id-1 div.sk-parallel-item:only-child::after {width: 0;}#sk-container-id-1 div.sk-dashed-wrapped {border: 1px dashed gray;margin: 0 0.4em 0.5em 0.4em;box-sizing: border-box;padding-bottom: 0.4em;background-color: white;}#sk-container-id-1 div.sk-label label {font-family: monospace;font-weight: bold;display: inline-block;line-height: 1.2em;}#sk-container-id-1 div.sk-label-container {text-align: center;}#sk-container-id-1 div.sk-container {/* jupyter's `normalize.less` sets `[hidden] { display: none; }` but bootstrap.min.css set `[hidden] { display: none !important; }` so we also need the `!important` here to be able to override the default hidden behavior on the sphinx rendered scikit-learn.org. See: https://github.com/scikit-learn/scikit-learn/issues/21755 */display: inline-block !important;position: relative;}#sk-container-id-1 div.sk-text-repr-fallback {display: none;}</style><div id=\"sk-container-id-1\" class=\"sk-top-container\"><div class=\"sk-text-repr-fallback\"><pre>RFE(estimator=RandomForestRegressor(n_estimators=500), n_features_to_select=19)</pre><b>In a Jupyter environment, please rerun this cell to show the HTML representation or trust the notebook. <br />On GitHub, the HTML representation is unable to render, please try loading this page with nbviewer.org.</b></div><div class=\"sk-container\" hidden><div class=\"sk-item sk-dashed-wrapped\"><div class=\"sk-label-container\"><div class=\"sk-label sk-toggleable\"><input class=\"sk-toggleable__control sk-hidden--visually\" id=\"sk-estimator-id-1\" type=\"checkbox\" ><label for=\"sk-estimator-id-1\" class=\"sk-toggleable__label sk-toggleable__label-arrow\">RFE</label><div class=\"sk-toggleable__content\"><pre>RFE(estimator=RandomForestRegressor(n_estimators=500), n_features_to_select=19)</pre></div></div></div><div class=\"sk-parallel\"><div class=\"sk-parallel-item\"><div class=\"sk-item\"><div class=\"sk-label-container\"><div class=\"sk-label sk-toggleable\"><input class=\"sk-toggleable__control sk-hidden--visually\" id=\"sk-estimator-id-2\" type=\"checkbox\" ><label for=\"sk-estimator-id-2\" class=\"sk-toggleable__label sk-toggleable__label-arrow\">estimator: RandomForestRegressor</label><div class=\"sk-toggleable__content\"><pre>RandomForestRegressor(n_estimators=500)</pre></div></div></div><div class=\"sk-serial\"><div class=\"sk-item\"><div class=\"sk-estimator sk-toggleable\"><input class=\"sk-toggleable__control sk-hidden--visually\" id=\"sk-estimator-id-3\" type=\"checkbox\" ><label for=\"sk-estimator-id-3\" class=\"sk-toggleable__label sk-toggleable__label-arrow\">RandomForestRegressor</label><div class=\"sk-toggleable__content\"><pre>RandomForestRegressor(n_estimators=500)</pre></div></div></div></div></div></div></div></div></div></div>"
      ],
      "text/plain": [
       "RFE(estimator=RandomForestRegressor(n_estimators=500), n_features_to_select=19)"
      ]
     },
     "execution_count": 7,
     "metadata": {},
     "output_type": "execute_result"
    }
   ],
   "source": [
    "rfe_select = RFE(RandomForestRegressor(n_estimators=500), step = 1, \n",
    "                 n_features_to_select=19)\n",
    "rfe_select.fit(X_train, y_train)"
   ]
  },
  {
   "cell_type": "code",
   "execution_count": 8,
   "metadata": {},
   "outputs": [
    {
     "data": {
      "image/png": "[encoded data removed]",
      "text/plain": [
       "<Figure size 1152x144 with 1 Axes>"
      ]
     },
     "metadata": {
      "needs_background": "light"
     },
     "output_type": "display_data"
    }
   ],
   "source": [
    "mask = rfe_select.get_support()\n",
    "plt.matshow( mask.reshape(1,-1), cmap = 'gray_r', aspect=0.5)\n",
    "plt.yticks([])\n",
    "plt.gca().xaxis.set_minor_locator(plt.MultipleLocator(1))\n",
    "plt.xlabel(\"Индекс признака\");"
   ]
  },
  {
   "cell_type": "code",
   "execution_count": 9,
   "metadata": {},
   "outputs": [],
   "source": [
    "X_train_imp = X_train[X_train.columns[mask]]\n",
    "X_val_imp = X_val[X_train.columns[mask]]\n",
    "features_names_imp = X_train.columns[mask]"
   ]
  },
  {
   "cell_type": "code",
   "execution_count": 10,
   "metadata": {},
   "outputs": [
    {
     "data": {
      "text/plain": [
       "Index(['0', '1', '6', '7', '11', '13', '17', '18', '19', '20', '21', '22',\n",
       "       '25', '26', '30', '32', '33', '35', '37'],\n",
       "      dtype='object')"
      ]
     },
     "execution_count": 10,
     "metadata": {},
     "output_type": "execute_result"
    }
   ],
   "source": [
    "features_names_imp"
   ]
  },
  {
   "cell_type": "code",
   "execution_count": 11,
   "metadata": {},
   "outputs": [],
   "source": [
    "# Блок предсказания с использованием тестового набора"
   ]
  },
  {
   "cell_type": "code",
   "execution_count": 12,
   "metadata": {},
   "outputs": [
    {
     "data": {
      "text/html": [
       "<style>#sk-container-id-2 {color: black;background-color: white;}#sk-container-id-2 pre{padding: 0;}#sk-container-id-2 div.sk-toggleable {background-color: white;}#sk-container-id-2 label.sk-toggleable__label {cursor: pointer;display: block;width: 100%;margin-bottom: 0;padding: 0.3em;box-sizing: border-box;text-align: center;}#sk-container-id-2 label.sk-toggleable__label-arrow:before {content: \"▸\";float: left;margin-right: 0.25em;color: #696969;}#sk-container-id-2 label.sk-toggleable__label-arrow:hover:before {color: black;}#sk-container-id-2 div.sk-estimator:hover label.sk-toggleable__label-arrow:before {color: black;}#sk-container-id-2 div.sk-toggleable__content {max-height: 0;max-width: 0;overflow: hidden;text-align: left;background-color: #f0f8ff;}#sk-container-id-2 div.sk-toggleable__content pre {margin: 0.2em;color: black;border-radius: 0.25em;background-color: #f0f8ff;}#sk-container-id-2 input.sk-toggleable__control:checked~div.sk-toggleable__content {max-height: 200px;max-width: 100%;overflow: auto;}#sk-container-id-2 input.sk-toggleable__control:checked~label.sk-toggleable__label-arrow:before {content: \"▾\";}#sk-container-id-2 div.sk-estimator input.sk-toggleable__control:checked~label.sk-toggleable__label {background-color: #d4ebff;}#sk-container-id-2 div.sk-label input.sk-toggleable__control:checked~label.sk-toggleable__label {background-color: #d4ebff;}#sk-container-id-2 input.sk-hidden--visually {border: 0;clip: rect(1px 1px 1px 1px);clip: rect(1px, 1px, 1px, 1px);height: 1px;margin: -1px;overflow: hidden;padding: 0;position: absolute;width: 1px;}#sk-container-id-2 div.sk-estimator {font-family: monospace;background-color: #f0f8ff;border: 1px dotted black;border-radius: 0.25em;box-sizing: border-box;margin-bottom: 0.5em;}#sk-container-id-2 div.sk-estimator:hover {background-color: #d4ebff;}#sk-container-id-2 div.sk-parallel-item::after {content: \"\";width: 100%;border-bottom: 1px solid gray;flex-grow: 1;}#sk-container-id-2 div.sk-label:hover label.sk-toggleable__label {background-color: #d4ebff;}#sk-container-id-2 div.sk-serial::before {content: \"\";position: absolute;border-left: 1px solid gray;box-sizing: border-box;top: 0;bottom: 0;left: 50%;z-index: 0;}#sk-container-id-2 div.sk-serial {display: flex;flex-direction: column;align-items: center;background-color: white;padding-right: 0.2em;padding-left: 0.2em;position: relative;}#sk-container-id-2 div.sk-item {position: relative;z-index: 1;}#sk-container-id-2 div.sk-parallel {display: flex;align-items: stretch;justify-content: center;background-color: white;position: relative;}#sk-container-id-2 div.sk-item::before, #sk-container-id-2 div.sk-parallel-item::before {content: \"\";position: absolute;border-left: 1px solid gray;box-sizing: border-box;top: 0;bottom: 0;left: 50%;z-index: -1;}#sk-container-id-2 div.sk-parallel-item {display: flex;flex-direction: column;z-index: 1;position: relative;background-color: white;}#sk-container-id-2 div.sk-parallel-item:first-child::after {align-self: flex-end;width: 50%;}#sk-container-id-2 div.sk-parallel-item:last-child::after {align-self: flex-start;width: 50%;}#sk-container-id-2 div.sk-parallel-item:only-child::after {width: 0;}#sk-container-id-2 div.sk-dashed-wrapped {border: 1px dashed gray;margin: 0 0.4em 0.5em 0.4em;box-sizing: border-box;padding-bottom: 0.4em;background-color: white;}#sk-container-id-2 div.sk-label label {font-family: monospace;font-weight: bold;display: inline-block;line-height: 1.2em;}#sk-container-id-2 div.sk-label-container {text-align: center;}#sk-container-id-2 div.sk-container {/* jupyter's `normalize.less` sets `[hidden] { display: none; }` but bootstrap.min.css set `[hidden] { display: none !important; }` so we also need the `!important` here to be able to override the default hidden behavior on the sphinx rendered scikit-learn.org. See: https://github.com/scikit-learn/scikit-learn/issues/21755 */display: inline-block !important;position: relative;}#sk-container-id-2 div.sk-text-repr-fallback {display: none;}</style><div id=\"sk-container-id-2\" class=\"sk-top-container\"><div class=\"sk-text-repr-fallback\"><pre>RandomForestRegressor(ccp_alpha=0.5, criterion=&#x27;poisson&#x27;, max_features=None,\n",
       "                      n_estimators=200)</pre><b>In a Jupyter environment, please rerun this cell to show the HTML representation or trust the notebook. <br />On GitHub, the HTML representation is unable to render, please try loading this page with nbviewer.org.</b></div><div class=\"sk-container\" hidden><div class=\"sk-item\"><div class=\"sk-estimator sk-toggleable\"><input class=\"sk-toggleable__control sk-hidden--visually\" id=\"sk-estimator-id-4\" type=\"checkbox\" checked><label for=\"sk-estimator-id-4\" class=\"sk-toggleable__label sk-toggleable__label-arrow\">RandomForestRegressor</label><div class=\"sk-toggleable__content\"><pre>RandomForestRegressor(ccp_alpha=0.5, criterion=&#x27;poisson&#x27;, max_features=None,\n",
       "                      n_estimators=200)</pre></div></div></div></div></div>"
      ],
      "text/plain": [
       "RandomForestRegressor(ccp_alpha=0.5, criterion='poisson', max_features=None,\n",
       "                      n_estimators=200)"
      ]
     },
     "execution_count": 12,
     "metadata": {},
     "output_type": "execute_result"
    }
   ],
   "source": [
    "rf = RandomForestRegressor(bootstrap = True, ccp_alpha = 0.5, criterion='poisson', max_features = None, n_estimators = 200)\n",
    "rf.fit(X[list(features_names_imp)], y)"
   ]
  },
  {
   "cell_type": "code",
   "execution_count": 13,
   "metadata": {
    "scrolled": false
   },
   "outputs": [],
   "source": [
    "# Маска отобраных ** НАЗВАНИЙ СТОЛБЦОВ ** для предсказания из тестового набора\n",
    "mask = list(features_names_imp)\n",
    "X_test = X_test[mask]\n",
    "\n",
    "# Название вектора предсказанных значений  y_predict полученого на основании тестового набора\n",
    "y_predict = rf.predict(X_test)"
   ]
  },
  {
   "cell_type": "code",
   "execution_count": 14,
   "metadata": {},
   "outputs": [
    {
     "data": {
      "text/plain": [
       "array([3485.11628567, 4695.27505155, 3183.02509531, 3346.96646634,\n",
       "       3189.41180912, 3123.64510355, 3020.19620682, 4081.06557755,\n",
       "       2679.77868515, 2683.47615637, 2592.28899138, 2053.28779464,\n",
       "       2808.77606698, 2960.57493682, 3364.94287146, 5132.83772266,\n",
       "       3040.79527732, 4556.5986083 , 3166.86226598, 1690.83592717,\n",
       "       2943.68667791, 2905.39529962, 4682.71759187, 4420.15420498,\n",
       "       3174.73902596, 2634.87550163, 1989.29889919, 3317.70727876,\n",
       "       2213.02622824, 2701.71071429, 4871.2745542 , 3897.20922938,\n",
       "       3092.79650101, 3253.94560391, 2981.81302309, 4711.21229583,\n",
       "       2558.15660659, 2750.89754453, 4915.96838299, 2324.00365256,\n",
       "       4535.75371801, 3350.01291157, 1652.50866661, 4319.08908052,\n",
       "       2673.80590907, 3911.24651447, 1640.72305985, 3231.6646503 ,\n",
       "       2757.78873942, 4565.50733856, 2870.0071073 , 3073.47761415,\n",
       "       4628.86095028, 2160.8508984 , 4466.02939515, 2478.52196178,\n",
       "       2442.28868638, 3024.89782682, 2712.60864068, 4763.23458013,\n",
       "       4611.91230012, 3727.11063793, 3544.11124988, 4308.82408164,\n",
       "       3189.74765379, 2784.27773871, 4705.40510038, 2387.24363768,\n",
       "       4602.58426648, 4215.23103532, 3177.69783481, 3015.33074374,\n",
       "       4379.09661758, 3715.35649204, 4299.21369375, 2211.75079034,\n",
       "       4590.68987322, 2839.3144661 , 4219.16188541, 2808.28314829,\n",
       "       3115.26558112, 4437.75058048, 4955.81200121, 2524.31579099,\n",
       "       2972.18740745, 3290.99240917, 2773.06954514, 3269.3012563 ,\n",
       "       4523.81562257, 4453.05380574, 1624.97396515, 2553.33482664,\n",
       "       2152.84533011, 3586.11447071, 4389.21401713, 3342.81267898,\n",
       "       3932.22294339, 2427.57725681, 4690.41619374, 3902.48037655,\n",
       "       3465.71388103, 2792.20204116, 3548.64815753, 4370.79372556,\n",
       "       5241.72797852, 5299.60270414, 4092.94736691, 2976.01771997,\n",
       "       2370.23476294, 2857.68512161, 2584.32289997, 2931.84321045,\n",
       "       2665.17852576, 4233.655485  , 4591.35823652, 2831.73153057,\n",
       "       2551.69740582, 2209.90819452, 3723.72288269, 3805.58354846,\n",
       "       2042.33450103, 2468.64664828, 2389.54645363, 2849.40280509,\n",
       "       3193.42463533, 2023.47464321, 2766.77431435, 3471.07896954,\n",
       "       3167.14403622, 2717.79091444, 3348.94118608, 2977.25784565,\n",
       "       2790.84548662, 1909.18989284, 5076.7922652 , 1643.38424023,\n",
       "       2876.37270496, 2876.53442733, 3249.67262217, 5164.66562052,\n",
       "       1677.66550225, 4869.21660515, 3338.19483572, 3631.26336085,\n",
       "       1907.29207247, 4220.39564444, 3477.06962357, 3772.04868057,\n",
       "       4501.67195724, 3559.42115536, 2830.13388932, 4607.9862805 ,\n",
       "       2794.34132229, 3034.2239665 , 4850.22331836, 3164.53926789,\n",
       "       3357.52739343, 3117.42663536, 4467.4079351 , 2982.48959266,\n",
       "       5065.01183988, 1969.71407286, 1655.07554198, 3721.0255585 ,\n",
       "       4063.55022288, 1962.09200482, 3144.49642511, 4657.36330091,\n",
       "       4903.57123004, 2901.43255512, 4394.90748034, 2070.64011581,\n",
       "       4067.70249163, 3208.36648947, 2659.80581135, 4008.34489759,\n",
       "       4680.90363795, 3350.99767175, 2414.26604819, 2883.36117131,\n",
       "       3427.14267275, 2986.42422429, 2767.37209726, 5096.17206824,\n",
       "       4387.19805665, 4215.66339101, 3779.8265587 , 3083.76873281,\n",
       "       2705.79585551, 5067.56755572, 2712.29065651, 4457.63584047,\n",
       "       2507.05549301, 5108.05163437, 2679.40875745, 2706.17806649,\n",
       "       2968.59130289, 3715.72657362, 3415.11738066, 4379.07035348,\n",
       "       2128.47495699, 3843.98980579, 4511.79931335, 4254.40190253,\n",
       "       3493.92753988, 2792.50215613, 3385.40216494, 2103.98931229,\n",
       "       4569.83238541, 1544.25547129, 4424.07098161, 4571.5984601 ,\n",
       "       4653.21555072, 2896.65289717, 3273.07042135, 2102.64271131,\n",
       "       3580.09364881, 2732.57097124, 3136.91704023, 4674.83457526,\n",
       "       3377.76115339, 3103.95445982, 2473.92612609, 4853.78097286,\n",
       "       2595.70949704, 2743.45130021, 2677.03372687, 3276.88758276,\n",
       "       4578.78760643, 4589.32147467, 3111.5101551 , 2681.81333017,\n",
       "       2156.7477839 , 3322.17374554])"
      ]
     },
     "execution_count": 14,
     "metadata": {},
     "output_type": "execute_result"
    }
   ],
   "source": [
    "y_predict"
   ]
  },
  {
   "cell_type": "code",
   "execution_count": null,
   "metadata": {},
   "outputs": [],
   "source": []
  },
  {
   "cell_type": "code",
   "execution_count": null,
   "metadata": {},
   "outputs": [],
   "source": []
  }
 ],
 "metadata": {
  "kernelspec": {
   "display_name": "Python 3 (ipykernel)",
   "language": "python",
   "name": "python3"
  },
  "language_info": {
   "codemirror_mode": {
    "name": "ipython",
    "version": 3
   },
   "file_extension": ".py",
   "mimetype": "text/x-python",
   "name": "python",
   "nbconvert_exporter": "python",
   "pygments_lexer": "ipython3",
   "version": "3.9.12"
  },
  "vscode": {
   "interpreter": {
    "hash": "acc0dcb458adea865fa90ce4f43fb3956ae49c60606d0d549bfdeff9ec2bcd00"
   }
  }
 },
 "nbformat": 4,
 "nbformat_minor": 2
}
