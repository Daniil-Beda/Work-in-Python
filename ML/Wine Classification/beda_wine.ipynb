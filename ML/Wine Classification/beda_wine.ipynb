{
 "cells": [
  {
   "cell_type": "code",
   "execution_count": 1,
   "metadata": {},
   "outputs": [],
   "source": [
    "# Внимание!!! Важно, что бы файлы с данными и исполняемый файл находились в одной папке, \n",
    "# тогда пути к тестовым и тренировочным наборам будут содержать только имена файлов.\n",
    "# \n",
    "# В пути к тренировочным и тестовым данным запрежается использовать абсалютную адресацию, \n",
    "# то есть адресацию, в которой присутствуют имена папок. Путь должен содержать только имя файла.\n",
    "#\n",
    "# Напоминание: под моделью машинного обучения понимаются все действия с исходными данными, \n",
    "# которые необходимо произвести, что бы сопоставить признаки целевому значению."
   ]
  },
  {
   "cell_type": "markdown",
   "metadata": {},
   "source": [
    "### Область работы 1 (библиотеки)"
   ]
  },
  {
   "cell_type": "code",
   "execution_count": 2,
   "metadata": {},
   "outputs": [],
   "source": [
    "# Данный блок в области 1 выполняется преподавателем\n",
    "# \n",
    "# данный блок предназначен только для подключения необходимых библиотек\n",
    "# запрещается подключать библиотеки в других блоках\n",
    "#\n",
    "# установка дополнительных библиотек размещается прямо здесь (обязательно закоментированы)\n",
    "#\n",
    "# pip install"
   ]
  },
  {
   "cell_type": "code",
   "execution_count": 3,
   "metadata": {},
   "outputs": [],
   "source": [
    "import numpy as np\n",
    "import matplotlib.pyplot as plt\n",
    "import seaborn as sns\n",
    "import pandas as pd\n",
    "import sklearn\n",
    "from sklearn.model_selection import train_test_split\n",
    "from sklearn.neighbors import KNeighborsClassifier\n",
    "from sklearn.model_selection import cross_val_score, KFold, StratifiedShuffleSplit, GridSearchCV\n",
    "from sklearn.pipeline import Pipeline\n",
    "from sklearn.preprocessing import MinMaxScaler, StandardScaler, RobustScaler, Normalizer\n",
    "from tqdm import tqdm\n",
    "from sklearn.metrics import precision_score, accuracy_score\n",
    "from sklearn.metrics import confusion_matrix, ConfusionMatrixDisplay\n",
    "from sklearn.metrics import precision_recall_curve\n",
    "from sklearn.metrics import PrecisionRecallDisplay\n",
    "from sklearn.model_selection import StratifiedKFold, StratifiedShuffleSplit"
   ]
  },
  {
   "cell_type": "markdown",
   "metadata": {},
   "source": [
    "### Область работы 2 (поиск лучшей модели)"
   ]
  },
  {
   "cell_type": "markdown",
   "metadata": {},
   "source": [
    "Я вас приветствую на разведовательном анализе датасета вина. Для начала прочитаем наш файл wine_train, и просмотрим описательную статистику по столбцам."
   ]
  },
  {
   "cell_type": "code",
   "execution_count": 4,
   "metadata": {},
   "outputs": [],
   "source": [
    "path_train = \"wine_train.csv\"\n",
    "df = pd.read_csv(path_train)"
   ]
  },
  {
   "cell_type": "code",
   "execution_count": 5,
   "metadata": {},
   "outputs": [
    {
     "data": {
      "text/html": [
       "<div>\n",
       "<style scoped>\n",
       "    .dataframe tbody tr th:only-of-type {\n",
       "        vertical-align: middle;\n",
       "    }\n",
       "\n",
       "    .dataframe tbody tr th {\n",
       "        vertical-align: top;\n",
       "    }\n",
       "\n",
       "    .dataframe thead th {\n",
       "        text-align: right;\n",
       "    }\n",
       "</style>\n",
       "<table border=\"1\" class=\"dataframe\">\n",
       "  <thead>\n",
       "    <tr style=\"text-align: right;\">\n",
       "      <th></th>\n",
       "      <th>fixed acidity</th>\n",
       "      <th>volatile acidity</th>\n",
       "      <th>citric acid</th>\n",
       "      <th>residual sugar</th>\n",
       "      <th>chlorides</th>\n",
       "      <th>free sulfur dioxide</th>\n",
       "      <th>total sulfur dioxide</th>\n",
       "      <th>density</th>\n",
       "      <th>pH</th>\n",
       "      <th>sulphates</th>\n",
       "      <th>alcohol</th>\n",
       "      <th>quality</th>\n",
       "    </tr>\n",
       "  </thead>\n",
       "  <tbody>\n",
       "    <tr>\n",
       "      <th>count</th>\n",
       "      <td>3673.000000</td>\n",
       "      <td>3673.000000</td>\n",
       "      <td>3673.000000</td>\n",
       "      <td>3673.000000</td>\n",
       "      <td>3673.000000</td>\n",
       "      <td>3673.000000</td>\n",
       "      <td>3673.000000</td>\n",
       "      <td>3673.000000</td>\n",
       "      <td>3673.000000</td>\n",
       "      <td>3673.000000</td>\n",
       "      <td>3673.000000</td>\n",
       "      <td>3673.000000</td>\n",
       "    </tr>\n",
       "    <tr>\n",
       "      <th>mean</th>\n",
       "      <td>6.846665</td>\n",
       "      <td>0.278138</td>\n",
       "      <td>0.334568</td>\n",
       "      <td>6.428233</td>\n",
       "      <td>0.045736</td>\n",
       "      <td>35.081269</td>\n",
       "      <td>138.022189</td>\n",
       "      <td>0.994023</td>\n",
       "      <td>3.187414</td>\n",
       "      <td>0.488647</td>\n",
       "      <td>10.516330</td>\n",
       "      <td>5.878029</td>\n",
       "    </tr>\n",
       "    <tr>\n",
       "      <th>std</th>\n",
       "      <td>0.831783</td>\n",
       "      <td>0.101203</td>\n",
       "      <td>0.119855</td>\n",
       "      <td>5.134907</td>\n",
       "      <td>0.021699</td>\n",
       "      <td>16.582853</td>\n",
       "      <td>42.179044</td>\n",
       "      <td>0.003027</td>\n",
       "      <td>0.150749</td>\n",
       "      <td>0.112795</td>\n",
       "      <td>1.230426</td>\n",
       "      <td>0.885823</td>\n",
       "    </tr>\n",
       "    <tr>\n",
       "      <th>min</th>\n",
       "      <td>3.900000</td>\n",
       "      <td>0.080000</td>\n",
       "      <td>0.000000</td>\n",
       "      <td>0.600000</td>\n",
       "      <td>0.009000</td>\n",
       "      <td>2.000000</td>\n",
       "      <td>9.000000</td>\n",
       "      <td>0.987110</td>\n",
       "      <td>2.720000</td>\n",
       "      <td>0.220000</td>\n",
       "      <td>8.000000</td>\n",
       "      <td>3.000000</td>\n",
       "    </tr>\n",
       "    <tr>\n",
       "      <th>25%</th>\n",
       "      <td>6.300000</td>\n",
       "      <td>0.210000</td>\n",
       "      <td>0.270000</td>\n",
       "      <td>1.700000</td>\n",
       "      <td>0.036000</td>\n",
       "      <td>23.000000</td>\n",
       "      <td>108.000000</td>\n",
       "      <td>0.991700</td>\n",
       "      <td>3.080000</td>\n",
       "      <td>0.410000</td>\n",
       "      <td>9.500000</td>\n",
       "      <td>5.000000</td>\n",
       "    </tr>\n",
       "    <tr>\n",
       "      <th>50%</th>\n",
       "      <td>6.800000</td>\n",
       "      <td>0.260000</td>\n",
       "      <td>0.320000</td>\n",
       "      <td>5.250000</td>\n",
       "      <td>0.043000</td>\n",
       "      <td>33.000000</td>\n",
       "      <td>134.000000</td>\n",
       "      <td>0.993730</td>\n",
       "      <td>3.180000</td>\n",
       "      <td>0.470000</td>\n",
       "      <td>10.400000</td>\n",
       "      <td>6.000000</td>\n",
       "    </tr>\n",
       "    <tr>\n",
       "      <th>75%</th>\n",
       "      <td>7.300000</td>\n",
       "      <td>0.320000</td>\n",
       "      <td>0.390000</td>\n",
       "      <td>9.900000</td>\n",
       "      <td>0.050000</td>\n",
       "      <td>45.000000</td>\n",
       "      <td>166.000000</td>\n",
       "      <td>0.996100</td>\n",
       "      <td>3.280000</td>\n",
       "      <td>0.550000</td>\n",
       "      <td>11.400000</td>\n",
       "      <td>6.000000</td>\n",
       "    </tr>\n",
       "    <tr>\n",
       "      <th>max</th>\n",
       "      <td>11.800000</td>\n",
       "      <td>1.100000</td>\n",
       "      <td>1.230000</td>\n",
       "      <td>65.800000</td>\n",
       "      <td>0.346000</td>\n",
       "      <td>146.500000</td>\n",
       "      <td>366.500000</td>\n",
       "      <td>1.038980</td>\n",
       "      <td>3.800000</td>\n",
       "      <td>1.080000</td>\n",
       "      <td>14.200000</td>\n",
       "      <td>9.000000</td>\n",
       "    </tr>\n",
       "  </tbody>\n",
       "</table>\n",
       "</div>"
      ],
      "text/plain": [
       "       fixed acidity  volatile acidity  citric acid  residual sugar  \\\n",
       "count    3673.000000       3673.000000  3673.000000     3673.000000   \n",
       "mean        6.846665          0.278138     0.334568        6.428233   \n",
       "std         0.831783          0.101203     0.119855        5.134907   \n",
       "min         3.900000          0.080000     0.000000        0.600000   \n",
       "25%         6.300000          0.210000     0.270000        1.700000   \n",
       "50%         6.800000          0.260000     0.320000        5.250000   \n",
       "75%         7.300000          0.320000     0.390000        9.900000   \n",
       "max        11.800000          1.100000     1.230000       65.800000   \n",
       "\n",
       "         chlorides  free sulfur dioxide  total sulfur dioxide      density  \\\n",
       "count  3673.000000          3673.000000           3673.000000  3673.000000   \n",
       "mean      0.045736            35.081269            138.022189     0.994023   \n",
       "std       0.021699            16.582853             42.179044     0.003027   \n",
       "min       0.009000             2.000000              9.000000     0.987110   \n",
       "25%       0.036000            23.000000            108.000000     0.991700   \n",
       "50%       0.043000            33.000000            134.000000     0.993730   \n",
       "75%       0.050000            45.000000            166.000000     0.996100   \n",
       "max       0.346000           146.500000            366.500000     1.038980   \n",
       "\n",
       "                pH    sulphates      alcohol      quality  \n",
       "count  3673.000000  3673.000000  3673.000000  3673.000000  \n",
       "mean      3.187414     0.488647    10.516330     5.878029  \n",
       "std       0.150749     0.112795     1.230426     0.885823  \n",
       "min       2.720000     0.220000     8.000000     3.000000  \n",
       "25%       3.080000     0.410000     9.500000     5.000000  \n",
       "50%       3.180000     0.470000    10.400000     6.000000  \n",
       "75%       3.280000     0.550000    11.400000     6.000000  \n",
       "max       3.800000     1.080000    14.200000     9.000000  "
      ]
     },
     "execution_count": 5,
     "metadata": {},
     "output_type": "execute_result"
    }
   ],
   "source": [
    "df.describe()"
   ]
  },
  {
   "cell_type": "code",
   "execution_count": 6,
   "metadata": {},
   "outputs": [
    {
     "name": "stdout",
     "output_type": "stream",
     "text": [
      "<class 'pandas.core.frame.DataFrame'>\n",
      "RangeIndex: 3673 entries, 0 to 3672\n",
      "Data columns (total 12 columns):\n",
      " #   Column                Non-Null Count  Dtype  \n",
      "---  ------                --------------  -----  \n",
      " 0   fixed acidity         3673 non-null   float64\n",
      " 1   volatile acidity      3673 non-null   float64\n",
      " 2   citric acid           3673 non-null   float64\n",
      " 3   residual sugar        3673 non-null   float64\n",
      " 4   chlorides             3673 non-null   float64\n",
      " 5   free sulfur dioxide   3673 non-null   float64\n",
      " 6   total sulfur dioxide  3673 non-null   float64\n",
      " 7   density               3673 non-null   float64\n",
      " 8   pH                    3673 non-null   float64\n",
      " 9   sulphates             3673 non-null   float64\n",
      " 10  alcohol               3673 non-null   float64\n",
      " 11  quality               3673 non-null   int64  \n",
      "dtypes: float64(11), int64(1)\n",
      "memory usage: 344.5 KB\n"
     ]
    }
   ],
   "source": [
    "df.info()"
   ]
  },
  {
   "cell_type": "markdown",
   "metadata": {},
   "source": [
    "Заменим наши таргет-метки на классы 0 и 1 согласно условию домашнего задания (1 - отмечаются те вина, у кого качества 7 и выше, 0 - иначе)"
   ]
  },
  {
   "cell_type": "code",
   "execution_count": 7,
   "metadata": {},
   "outputs": [],
   "source": [
    "df['quality']= np.where(df.quality>=7, 1, 0)"
   ]
  },
  {
   "cell_type": "code",
   "execution_count": 8,
   "metadata": {},
   "outputs": [
    {
     "data": {
      "text/html": [
       "<div>\n",
       "<style scoped>\n",
       "    .dataframe tbody tr th:only-of-type {\n",
       "        vertical-align: middle;\n",
       "    }\n",
       "\n",
       "    .dataframe tbody tr th {\n",
       "        vertical-align: top;\n",
       "    }\n",
       "\n",
       "    .dataframe thead th {\n",
       "        text-align: right;\n",
       "    }\n",
       "</style>\n",
       "<table border=\"1\" class=\"dataframe\">\n",
       "  <thead>\n",
       "    <tr style=\"text-align: right;\">\n",
       "      <th></th>\n",
       "      <th>fixed acidity</th>\n",
       "      <th>volatile acidity</th>\n",
       "      <th>citric acid</th>\n",
       "      <th>residual sugar</th>\n",
       "      <th>chlorides</th>\n",
       "      <th>free sulfur dioxide</th>\n",
       "      <th>total sulfur dioxide</th>\n",
       "      <th>density</th>\n",
       "      <th>pH</th>\n",
       "      <th>sulphates</th>\n",
       "      <th>alcohol</th>\n",
       "      <th>quality</th>\n",
       "    </tr>\n",
       "  </thead>\n",
       "  <tbody>\n",
       "    <tr>\n",
       "      <th>0</th>\n",
       "      <td>6.2</td>\n",
       "      <td>0.28</td>\n",
       "      <td>0.22</td>\n",
       "      <td>7.3</td>\n",
       "      <td>0.041</td>\n",
       "      <td>26.0</td>\n",
       "      <td>157.0</td>\n",
       "      <td>0.99570</td>\n",
       "      <td>3.44</td>\n",
       "      <td>0.64</td>\n",
       "      <td>9.8</td>\n",
       "      <td>1</td>\n",
       "    </tr>\n",
       "    <tr>\n",
       "      <th>1</th>\n",
       "      <td>5.9</td>\n",
       "      <td>0.54</td>\n",
       "      <td>0.00</td>\n",
       "      <td>0.8</td>\n",
       "      <td>0.032</td>\n",
       "      <td>12.0</td>\n",
       "      <td>82.0</td>\n",
       "      <td>0.99286</td>\n",
       "      <td>3.25</td>\n",
       "      <td>0.36</td>\n",
       "      <td>8.8</td>\n",
       "      <td>0</td>\n",
       "    </tr>\n",
       "    <tr>\n",
       "      <th>2</th>\n",
       "      <td>6.2</td>\n",
       "      <td>0.24</td>\n",
       "      <td>0.27</td>\n",
       "      <td>16.8</td>\n",
       "      <td>0.040</td>\n",
       "      <td>48.0</td>\n",
       "      <td>129.0</td>\n",
       "      <td>0.99691</td>\n",
       "      <td>3.23</td>\n",
       "      <td>0.38</td>\n",
       "      <td>10.5</td>\n",
       "      <td>0</td>\n",
       "    </tr>\n",
       "    <tr>\n",
       "      <th>3</th>\n",
       "      <td>6.7</td>\n",
       "      <td>0.42</td>\n",
       "      <td>0.46</td>\n",
       "      <td>9.7</td>\n",
       "      <td>0.054</td>\n",
       "      <td>67.0</td>\n",
       "      <td>234.0</td>\n",
       "      <td>0.99848</td>\n",
       "      <td>3.23</td>\n",
       "      <td>0.50</td>\n",
       "      <td>9.0</td>\n",
       "      <td>0</td>\n",
       "    </tr>\n",
       "    <tr>\n",
       "      <th>4</th>\n",
       "      <td>7.0</td>\n",
       "      <td>0.20</td>\n",
       "      <td>0.34</td>\n",
       "      <td>2.1</td>\n",
       "      <td>0.049</td>\n",
       "      <td>12.0</td>\n",
       "      <td>136.0</td>\n",
       "      <td>0.99220</td>\n",
       "      <td>3.25</td>\n",
       "      <td>0.46</td>\n",
       "      <td>11.6</td>\n",
       "      <td>1</td>\n",
       "    </tr>\n",
       "  </tbody>\n",
       "</table>\n",
       "</div>"
      ],
      "text/plain": [
       "   fixed acidity  volatile acidity  citric acid  residual sugar  chlorides  \\\n",
       "0            6.2              0.28         0.22             7.3      0.041   \n",
       "1            5.9              0.54         0.00             0.8      0.032   \n",
       "2            6.2              0.24         0.27            16.8      0.040   \n",
       "3            6.7              0.42         0.46             9.7      0.054   \n",
       "4            7.0              0.20         0.34             2.1      0.049   \n",
       "\n",
       "   free sulfur dioxide  total sulfur dioxide  density    pH  sulphates  \\\n",
       "0                 26.0                 157.0  0.99570  3.44       0.64   \n",
       "1                 12.0                  82.0  0.99286  3.25       0.36   \n",
       "2                 48.0                 129.0  0.99691  3.23       0.38   \n",
       "3                 67.0                 234.0  0.99848  3.23       0.50   \n",
       "4                 12.0                 136.0  0.99220  3.25       0.46   \n",
       "\n",
       "   alcohol  quality  \n",
       "0      9.8        1  \n",
       "1      8.8        0  \n",
       "2     10.5        0  \n",
       "3      9.0        0  \n",
       "4     11.6        1  "
      ]
     },
     "execution_count": 8,
     "metadata": {},
     "output_type": "execute_result"
    }
   ],
   "source": [
    "df.head(5)"
   ]
  },
  {
   "cell_type": "markdown",
   "metadata": {},
   "source": [
    "Проверим данные на дубликаты и удалим их."
   ]
  },
  {
   "cell_type": "code",
   "execution_count": 8,
   "metadata": {},
   "outputs": [
    {
     "data": {
      "text/html": [
       "<div>\n",
       "<style scoped>\n",
       "    .dataframe tbody tr th:only-of-type {\n",
       "        vertical-align: middle;\n",
       "    }\n",
       "\n",
       "    .dataframe tbody tr th {\n",
       "        vertical-align: top;\n",
       "    }\n",
       "\n",
       "    .dataframe thead th {\n",
       "        text-align: right;\n",
       "    }\n",
       "</style>\n",
       "<table border=\"1\" class=\"dataframe\">\n",
       "  <thead>\n",
       "    <tr style=\"text-align: right;\">\n",
       "      <th></th>\n",
       "      <th>fixed acidity</th>\n",
       "      <th>volatile acidity</th>\n",
       "      <th>citric acid</th>\n",
       "      <th>residual sugar</th>\n",
       "      <th>chlorides</th>\n",
       "      <th>free sulfur dioxide</th>\n",
       "      <th>total sulfur dioxide</th>\n",
       "      <th>density</th>\n",
       "      <th>pH</th>\n",
       "      <th>sulphates</th>\n",
       "      <th>alcohol</th>\n",
       "      <th>quality</th>\n",
       "    </tr>\n",
       "  </thead>\n",
       "  <tbody>\n",
       "    <tr>\n",
       "      <th>296</th>\n",
       "      <td>7.6</td>\n",
       "      <td>0.32</td>\n",
       "      <td>0.58</td>\n",
       "      <td>16.75</td>\n",
       "      <td>0.050</td>\n",
       "      <td>43.0</td>\n",
       "      <td>163.0</td>\n",
       "      <td>0.99990</td>\n",
       "      <td>3.15</td>\n",
       "      <td>0.54</td>\n",
       "      <td>9.2</td>\n",
       "      <td>0</td>\n",
       "    </tr>\n",
       "    <tr>\n",
       "      <th>302</th>\n",
       "      <td>6.0</td>\n",
       "      <td>0.28</td>\n",
       "      <td>0.24</td>\n",
       "      <td>17.80</td>\n",
       "      <td>0.047</td>\n",
       "      <td>42.0</td>\n",
       "      <td>111.0</td>\n",
       "      <td>0.99896</td>\n",
       "      <td>3.10</td>\n",
       "      <td>0.45</td>\n",
       "      <td>8.9</td>\n",
       "      <td>0</td>\n",
       "    </tr>\n",
       "    <tr>\n",
       "      <th>343</th>\n",
       "      <td>6.4</td>\n",
       "      <td>0.33</td>\n",
       "      <td>0.44</td>\n",
       "      <td>8.90</td>\n",
       "      <td>0.055</td>\n",
       "      <td>52.0</td>\n",
       "      <td>164.0</td>\n",
       "      <td>0.99488</td>\n",
       "      <td>3.10</td>\n",
       "      <td>0.48</td>\n",
       "      <td>9.6</td>\n",
       "      <td>0</td>\n",
       "    </tr>\n",
       "    <tr>\n",
       "      <th>385</th>\n",
       "      <td>5.7</td>\n",
       "      <td>0.26</td>\n",
       "      <td>0.24</td>\n",
       "      <td>17.80</td>\n",
       "      <td>0.059</td>\n",
       "      <td>23.0</td>\n",
       "      <td>124.0</td>\n",
       "      <td>0.99773</td>\n",
       "      <td>3.30</td>\n",
       "      <td>0.50</td>\n",
       "      <td>10.1</td>\n",
       "      <td>0</td>\n",
       "    </tr>\n",
       "    <tr>\n",
       "      <th>387</th>\n",
       "      <td>6.4</td>\n",
       "      <td>0.18</td>\n",
       "      <td>0.74</td>\n",
       "      <td>11.90</td>\n",
       "      <td>0.046</td>\n",
       "      <td>54.0</td>\n",
       "      <td>168.0</td>\n",
       "      <td>0.99780</td>\n",
       "      <td>3.58</td>\n",
       "      <td>0.68</td>\n",
       "      <td>10.1</td>\n",
       "      <td>0</td>\n",
       "    </tr>\n",
       "    <tr>\n",
       "      <th>...</th>\n",
       "      <td>...</td>\n",
       "      <td>...</td>\n",
       "      <td>...</td>\n",
       "      <td>...</td>\n",
       "      <td>...</td>\n",
       "      <td>...</td>\n",
       "      <td>...</td>\n",
       "      <td>...</td>\n",
       "      <td>...</td>\n",
       "      <td>...</td>\n",
       "      <td>...</td>\n",
       "      <td>...</td>\n",
       "    </tr>\n",
       "    <tr>\n",
       "      <th>3660</th>\n",
       "      <td>7.0</td>\n",
       "      <td>0.24</td>\n",
       "      <td>0.30</td>\n",
       "      <td>4.20</td>\n",
       "      <td>0.040</td>\n",
       "      <td>41.0</td>\n",
       "      <td>213.0</td>\n",
       "      <td>0.99270</td>\n",
       "      <td>3.28</td>\n",
       "      <td>0.49</td>\n",
       "      <td>11.8</td>\n",
       "      <td>0</td>\n",
       "    </tr>\n",
       "    <tr>\n",
       "      <th>3664</th>\n",
       "      <td>7.0</td>\n",
       "      <td>0.16</td>\n",
       "      <td>0.25</td>\n",
       "      <td>14.30</td>\n",
       "      <td>0.044</td>\n",
       "      <td>27.0</td>\n",
       "      <td>149.0</td>\n",
       "      <td>0.99800</td>\n",
       "      <td>2.91</td>\n",
       "      <td>0.46</td>\n",
       "      <td>9.2</td>\n",
       "      <td>0</td>\n",
       "    </tr>\n",
       "    <tr>\n",
       "      <th>3665</th>\n",
       "      <td>6.8</td>\n",
       "      <td>0.21</td>\n",
       "      <td>0.55</td>\n",
       "      <td>14.60</td>\n",
       "      <td>0.053</td>\n",
       "      <td>34.0</td>\n",
       "      <td>159.0</td>\n",
       "      <td>0.99805</td>\n",
       "      <td>2.93</td>\n",
       "      <td>0.44</td>\n",
       "      <td>9.2</td>\n",
       "      <td>0</td>\n",
       "    </tr>\n",
       "    <tr>\n",
       "      <th>3667</th>\n",
       "      <td>7.2</td>\n",
       "      <td>0.23</td>\n",
       "      <td>0.38</td>\n",
       "      <td>14.30</td>\n",
       "      <td>0.058</td>\n",
       "      <td>55.0</td>\n",
       "      <td>194.0</td>\n",
       "      <td>0.99790</td>\n",
       "      <td>3.09</td>\n",
       "      <td>0.44</td>\n",
       "      <td>9.0</td>\n",
       "      <td>0</td>\n",
       "    </tr>\n",
       "    <tr>\n",
       "      <th>3672</th>\n",
       "      <td>7.3</td>\n",
       "      <td>0.17</td>\n",
       "      <td>0.24</td>\n",
       "      <td>8.10</td>\n",
       "      <td>0.121</td>\n",
       "      <td>32.0</td>\n",
       "      <td>162.0</td>\n",
       "      <td>0.99508</td>\n",
       "      <td>3.17</td>\n",
       "      <td>0.38</td>\n",
       "      <td>10.4</td>\n",
       "      <td>1</td>\n",
       "    </tr>\n",
       "  </tbody>\n",
       "</table>\n",
       "<p>560 rows × 12 columns</p>\n",
       "</div>"
      ],
      "text/plain": [
       "      fixed acidity  volatile acidity  citric acid  residual sugar  chlorides  \\\n",
       "296             7.6              0.32         0.58           16.75      0.050   \n",
       "302             6.0              0.28         0.24           17.80      0.047   \n",
       "343             6.4              0.33         0.44            8.90      0.055   \n",
       "385             5.7              0.26         0.24           17.80      0.059   \n",
       "387             6.4              0.18         0.74           11.90      0.046   \n",
       "...             ...               ...          ...             ...        ...   \n",
       "3660            7.0              0.24         0.30            4.20      0.040   \n",
       "3664            7.0              0.16         0.25           14.30      0.044   \n",
       "3665            6.8              0.21         0.55           14.60      0.053   \n",
       "3667            7.2              0.23         0.38           14.30      0.058   \n",
       "3672            7.3              0.17         0.24            8.10      0.121   \n",
       "\n",
       "      free sulfur dioxide  total sulfur dioxide  density    pH  sulphates  \\\n",
       "296                  43.0                 163.0  0.99990  3.15       0.54   \n",
       "302                  42.0                 111.0  0.99896  3.10       0.45   \n",
       "343                  52.0                 164.0  0.99488  3.10       0.48   \n",
       "385                  23.0                 124.0  0.99773  3.30       0.50   \n",
       "387                  54.0                 168.0  0.99780  3.58       0.68   \n",
       "...                   ...                   ...      ...   ...        ...   \n",
       "3660                 41.0                 213.0  0.99270  3.28       0.49   \n",
       "3664                 27.0                 149.0  0.99800  2.91       0.46   \n",
       "3665                 34.0                 159.0  0.99805  2.93       0.44   \n",
       "3667                 55.0                 194.0  0.99790  3.09       0.44   \n",
       "3672                 32.0                 162.0  0.99508  3.17       0.38   \n",
       "\n",
       "      alcohol  quality  \n",
       "296       9.2        0  \n",
       "302       8.9        0  \n",
       "343       9.6        0  \n",
       "385      10.1        0  \n",
       "387      10.1        0  \n",
       "...       ...      ...  \n",
       "3660     11.8        0  \n",
       "3664      9.2        0  \n",
       "3665      9.2        0  \n",
       "3667      9.0        0  \n",
       "3672     10.4        1  \n",
       "\n",
       "[560 rows x 12 columns]"
      ]
     },
     "execution_count": 8,
     "metadata": {},
     "output_type": "execute_result"
    }
   ],
   "source": [
    "df[df.duplicated()]"
   ]
  },
  {
   "cell_type": "code",
   "execution_count": 9,
   "metadata": {},
   "outputs": [
    {
     "data": {
      "text/plain": [
       "0    412\n",
       "1    148\n",
       "Name: quality, dtype: int64"
      ]
     },
     "execution_count": 9,
     "metadata": {},
     "output_type": "execute_result"
    }
   ],
   "source": [
    "df[df.duplicated()]['quality'].value_counts() # В принципе у нас дубли не перевешивают в пользу какого-то класса\n",
    "#     (условно, если бы у нас были дубликаты только для 1 класса, то их удаление могло повлиять на качество обучения, \n",
    "#     в нашем случае можно удалять дубликаты чтобы не допустить утечки данных)"
   ]
  },
  {
   "cell_type": "code",
   "execution_count": 10,
   "metadata": {},
   "outputs": [],
   "source": [
    "df = df.drop_duplicates()"
   ]
  },
  {
   "cell_type": "markdown",
   "metadata": {},
   "source": [
    "Посмотрим баланс классов. И как мы видим, 80 % вин соответствуют классу 0, и 20% вин соотвествуют классу 1. Это значит, что когда мы будем применять в сетке кросс-валидацию (перекрестную проверку) мы должны выбрать StratifiedKFold, чтобы наши обучающие и поверочные сплиты разделялись пропорционально объемам классов."
   ]
  },
  {
   "cell_type": "code",
   "execution_count": 11,
   "metadata": {},
   "outputs": [
    {
     "data": {
      "text/plain": [
       "0.20783809829746225"
      ]
     },
     "execution_count": 11,
     "metadata": {},
     "output_type": "execute_result"
    }
   ],
   "source": [
    "df.quality.mean()"
   ]
  },
  {
   "cell_type": "code",
   "execution_count": 12,
   "metadata": {},
   "outputs": [
    {
     "data": {
      "text/plain": [
       "(3113, 12)"
      ]
     },
     "execution_count": 12,
     "metadata": {},
     "output_type": "execute_result"
    }
   ],
   "source": [
    "df.shape"
   ]
  },
  {
   "cell_type": "markdown",
   "metadata": {},
   "source": [
    "Теперь самое интересное, выбросы. Как вы видите, у нас имеется довольно большие выбросы в столбце free sulfur dioxide и total sulfur dioxide. На самом деле, мы могли бы их исключить, или заменять их на медианное значение. Но... возможно они не являются выбросами?\n",
    "\n",
    "На самом деле, если сделать разбивку по quality исходному, по столбцам total sulfur dioxide, можно заметить, что среднее значение при quality = 3 будет 183.46, оно значительно больше, чем у вин с качеством лучше. Получается, это даже не выбросы, а норма для плохого качества вина\n"
   ]
  },
  {
   "cell_type": "code",
   "execution_count": 13,
   "metadata": {},
   "outputs": [
    {
     "data": {
      "image/png": "[encoded data removed]",
      "text/plain": [
       "<Figure size 640x480 with 1 Axes>"
      ]
     },
     "metadata": {},
     "output_type": "display_data"
    }
   ],
   "source": [
    "sns.boxplot(data = df, width=0.8, fliersize=10);"
   ]
  },
  {
   "cell_type": "markdown",
   "metadata": {},
   "source": [
    "Построим корреляционную матрицу"
   ]
  },
  {
   "cell_type": "code",
   "execution_count": 14,
   "metadata": {},
   "outputs": [
    {
     "data": {
      "text/html": [
       "<div>\n",
       "<style scoped>\n",
       "    .dataframe tbody tr th:only-of-type {\n",
       "        vertical-align: middle;\n",
       "    }\n",
       "\n",
       "    .dataframe tbody tr th {\n",
       "        vertical-align: top;\n",
       "    }\n",
       "\n",
       "    .dataframe thead th {\n",
       "        text-align: right;\n",
       "    }\n",
       "</style>\n",
       "<table border=\"1\" class=\"dataframe\">\n",
       "  <thead>\n",
       "    <tr style=\"text-align: right;\">\n",
       "      <th></th>\n",
       "      <th>fixed acidity</th>\n",
       "      <th>volatile acidity</th>\n",
       "      <th>citric acid</th>\n",
       "      <th>residual sugar</th>\n",
       "      <th>chlorides</th>\n",
       "      <th>free sulfur dioxide</th>\n",
       "      <th>total sulfur dioxide</th>\n",
       "      <th>density</th>\n",
       "      <th>pH</th>\n",
       "      <th>sulphates</th>\n",
       "      <th>alcohol</th>\n",
       "      <th>quality</th>\n",
       "    </tr>\n",
       "  </thead>\n",
       "  <tbody>\n",
       "    <tr>\n",
       "      <th>fixed acidity</th>\n",
       "      <td>1.000000</td>\n",
       "      <td>-0.011352</td>\n",
       "      <td>0.285617</td>\n",
       "      <td>0.098695</td>\n",
       "      <td>0.022667</td>\n",
       "      <td>-0.057916</td>\n",
       "      <td>0.079351</td>\n",
       "      <td>0.263414</td>\n",
       "      <td>-0.439709</td>\n",
       "      <td>-0.022559</td>\n",
       "      <td>-0.097665</td>\n",
       "      <td>-0.092495</td>\n",
       "    </tr>\n",
       "    <tr>\n",
       "      <th>volatile acidity</th>\n",
       "      <td>-0.011352</td>\n",
       "      <td>1.000000</td>\n",
       "      <td>-0.165072</td>\n",
       "      <td>0.101484</td>\n",
       "      <td>0.097191</td>\n",
       "      <td>-0.110411</td>\n",
       "      <td>0.105878</td>\n",
       "      <td>0.067605</td>\n",
       "      <td>-0.045774</td>\n",
       "      <td>-0.022369</td>\n",
       "      <td>0.042664</td>\n",
       "      <td>-0.070411</td>\n",
       "    </tr>\n",
       "    <tr>\n",
       "      <th>citric acid</th>\n",
       "      <td>0.285617</td>\n",
       "      <td>-0.165072</td>\n",
       "      <td>1.000000</td>\n",
       "      <td>0.110972</td>\n",
       "      <td>0.120950</td>\n",
       "      <td>0.087536</td>\n",
       "      <td>0.119112</td>\n",
       "      <td>0.153376</td>\n",
       "      <td>-0.180810</td>\n",
       "      <td>0.048108</td>\n",
       "      <td>-0.063246</td>\n",
       "      <td>-0.010739</td>\n",
       "    </tr>\n",
       "    <tr>\n",
       "      <th>residual sugar</th>\n",
       "      <td>0.098695</td>\n",
       "      <td>0.101484</td>\n",
       "      <td>0.110972</td>\n",
       "      <td>1.000000</td>\n",
       "      <td>0.081543</td>\n",
       "      <td>0.318909</td>\n",
       "      <td>0.416219</td>\n",
       "      <td>0.830655</td>\n",
       "      <td>-0.173705</td>\n",
       "      <td>-0.013770</td>\n",
       "      <td>-0.406971</td>\n",
       "      <td>-0.148018</td>\n",
       "    </tr>\n",
       "    <tr>\n",
       "      <th>chlorides</th>\n",
       "      <td>0.022667</td>\n",
       "      <td>0.097191</td>\n",
       "      <td>0.120950</td>\n",
       "      <td>0.081543</td>\n",
       "      <td>1.000000</td>\n",
       "      <td>0.080739</td>\n",
       "      <td>0.188912</td>\n",
       "      <td>0.248452</td>\n",
       "      <td>-0.083281</td>\n",
       "      <td>0.031893</td>\n",
       "      <td>-0.343033</td>\n",
       "      <td>-0.187302</td>\n",
       "    </tr>\n",
       "    <tr>\n",
       "      <th>free sulfur dioxide</th>\n",
       "      <td>-0.057916</td>\n",
       "      <td>-0.110411</td>\n",
       "      <td>0.087536</td>\n",
       "      <td>0.318909</td>\n",
       "      <td>0.080739</td>\n",
       "      <td>1.000000</td>\n",
       "      <td>0.618822</td>\n",
       "      <td>0.303713</td>\n",
       "      <td>-0.006802</td>\n",
       "      <td>0.060036</td>\n",
       "      <td>-0.257783</td>\n",
       "      <td>-0.026658</td>\n",
       "    </tr>\n",
       "    <tr>\n",
       "      <th>total sulfur dioxide</th>\n",
       "      <td>0.079351</td>\n",
       "      <td>0.105878</td>\n",
       "      <td>0.119112</td>\n",
       "      <td>0.416219</td>\n",
       "      <td>0.188912</td>\n",
       "      <td>0.618822</td>\n",
       "      <td>1.000000</td>\n",
       "      <td>0.538444</td>\n",
       "      <td>-0.002667</td>\n",
       "      <td>0.146208</td>\n",
       "      <td>-0.454762</td>\n",
       "      <td>-0.182810</td>\n",
       "    </tr>\n",
       "    <tr>\n",
       "      <th>density</th>\n",
       "      <td>0.263414</td>\n",
       "      <td>0.067605</td>\n",
       "      <td>0.153376</td>\n",
       "      <td>0.830655</td>\n",
       "      <td>0.248452</td>\n",
       "      <td>0.303713</td>\n",
       "      <td>0.538444</td>\n",
       "      <td>1.000000</td>\n",
       "      <td>-0.066678</td>\n",
       "      <td>0.092702</td>\n",
       "      <td>-0.756035</td>\n",
       "      <td>-0.311288</td>\n",
       "    </tr>\n",
       "    <tr>\n",
       "      <th>pH</th>\n",
       "      <td>-0.439709</td>\n",
       "      <td>-0.045774</td>\n",
       "      <td>-0.180810</td>\n",
       "      <td>-0.173705</td>\n",
       "      <td>-0.083281</td>\n",
       "      <td>-0.006802</td>\n",
       "      <td>-0.002667</td>\n",
       "      <td>-0.066678</td>\n",
       "      <td>1.000000</td>\n",
       "      <td>0.147090</td>\n",
       "      <td>0.082137</td>\n",
       "      <td>0.114005</td>\n",
       "    </tr>\n",
       "    <tr>\n",
       "      <th>sulphates</th>\n",
       "      <td>-0.022559</td>\n",
       "      <td>-0.022369</td>\n",
       "      <td>0.048108</td>\n",
       "      <td>-0.013770</td>\n",
       "      <td>0.031893</td>\n",
       "      <td>0.060036</td>\n",
       "      <td>0.146208</td>\n",
       "      <td>0.092702</td>\n",
       "      <td>0.147090</td>\n",
       "      <td>1.000000</td>\n",
       "      <td>-0.038835</td>\n",
       "      <td>0.033035</td>\n",
       "    </tr>\n",
       "    <tr>\n",
       "      <th>alcohol</th>\n",
       "      <td>-0.097665</td>\n",
       "      <td>0.042664</td>\n",
       "      <td>-0.063246</td>\n",
       "      <td>-0.406971</td>\n",
       "      <td>-0.343033</td>\n",
       "      <td>-0.257783</td>\n",
       "      <td>-0.454762</td>\n",
       "      <td>-0.756035</td>\n",
       "      <td>0.082137</td>\n",
       "      <td>-0.038835</td>\n",
       "      <td>1.000000</td>\n",
       "      <td>0.399636</td>\n",
       "    </tr>\n",
       "    <tr>\n",
       "      <th>quality</th>\n",
       "      <td>-0.092495</td>\n",
       "      <td>-0.070411</td>\n",
       "      <td>-0.010739</td>\n",
       "      <td>-0.148018</td>\n",
       "      <td>-0.187302</td>\n",
       "      <td>-0.026658</td>\n",
       "      <td>-0.182810</td>\n",
       "      <td>-0.311288</td>\n",
       "      <td>0.114005</td>\n",
       "      <td>0.033035</td>\n",
       "      <td>0.399636</td>\n",
       "      <td>1.000000</td>\n",
       "    </tr>\n",
       "  </tbody>\n",
       "</table>\n",
       "</div>"
      ],
      "text/plain": [
       "                      fixed acidity  volatile acidity  citric acid  \\\n",
       "fixed acidity              1.000000         -0.011352     0.285617   \n",
       "volatile acidity          -0.011352          1.000000    -0.165072   \n",
       "citric acid                0.285617         -0.165072     1.000000   \n",
       "residual sugar             0.098695          0.101484     0.110972   \n",
       "chlorides                  0.022667          0.097191     0.120950   \n",
       "free sulfur dioxide       -0.057916         -0.110411     0.087536   \n",
       "total sulfur dioxide       0.079351          0.105878     0.119112   \n",
       "density                    0.263414          0.067605     0.153376   \n",
       "pH                        -0.439709         -0.045774    -0.180810   \n",
       "sulphates                 -0.022559         -0.022369     0.048108   \n",
       "alcohol                   -0.097665          0.042664    -0.063246   \n",
       "quality                   -0.092495         -0.070411    -0.010739   \n",
       "\n",
       "                      residual sugar  chlorides  free sulfur dioxide  \\\n",
       "fixed acidity               0.098695   0.022667            -0.057916   \n",
       "volatile acidity            0.101484   0.097191            -0.110411   \n",
       "citric acid                 0.110972   0.120950             0.087536   \n",
       "residual sugar              1.000000   0.081543             0.318909   \n",
       "chlorides                   0.081543   1.000000             0.080739   \n",
       "free sulfur dioxide         0.318909   0.080739             1.000000   \n",
       "total sulfur dioxide        0.416219   0.188912             0.618822   \n",
       "density                     0.830655   0.248452             0.303713   \n",
       "pH                         -0.173705  -0.083281            -0.006802   \n",
       "sulphates                  -0.013770   0.031893             0.060036   \n",
       "alcohol                    -0.406971  -0.343033            -0.257783   \n",
       "quality                    -0.148018  -0.187302            -0.026658   \n",
       "\n",
       "                      total sulfur dioxide   density        pH  sulphates  \\\n",
       "fixed acidity                     0.079351  0.263414 -0.439709  -0.022559   \n",
       "volatile acidity                  0.105878  0.067605 -0.045774  -0.022369   \n",
       "citric acid                       0.119112  0.153376 -0.180810   0.048108   \n",
       "residual sugar                    0.416219  0.830655 -0.173705  -0.013770   \n",
       "chlorides                         0.188912  0.248452 -0.083281   0.031893   \n",
       "free sulfur dioxide               0.618822  0.303713 -0.006802   0.060036   \n",
       "total sulfur dioxide              1.000000  0.538444 -0.002667   0.146208   \n",
       "density                           0.538444  1.000000 -0.066678   0.092702   \n",
       "pH                               -0.002667 -0.066678  1.000000   0.147090   \n",
       "sulphates                         0.146208  0.092702  0.147090   1.000000   \n",
       "alcohol                          -0.454762 -0.756035  0.082137  -0.038835   \n",
       "quality                          -0.182810 -0.311288  0.114005   0.033035   \n",
       "\n",
       "                       alcohol   quality  \n",
       "fixed acidity        -0.097665 -0.092495  \n",
       "volatile acidity      0.042664 -0.070411  \n",
       "citric acid          -0.063246 -0.010739  \n",
       "residual sugar       -0.406971 -0.148018  \n",
       "chlorides            -0.343033 -0.187302  \n",
       "free sulfur dioxide  -0.257783 -0.026658  \n",
       "total sulfur dioxide -0.454762 -0.182810  \n",
       "density              -0.756035 -0.311288  \n",
       "pH                    0.082137  0.114005  \n",
       "sulphates            -0.038835  0.033035  \n",
       "alcohol               1.000000  0.399636  \n",
       "quality               0.399636  1.000000  "
      ]
     },
     "execution_count": 14,
     "metadata": {},
     "output_type": "execute_result"
    }
   ],
   "source": [
    "corr = df.corr()\n",
    "corr"
   ]
  },
  {
   "cell_type": "code",
   "execution_count": 15,
   "metadata": {},
   "outputs": [
    {
     "data": {
      "image/png": "[encoded data removed]",
      "text/plain": [
       "<Figure size 600x900 with 2 Axes>"
      ]
     },
     "metadata": {},
     "output_type": "display_data"
    }
   ],
   "source": [
    "mask = np.triu(np.ones_like(corr, dtype=bool))\n",
    "f, ax = plt.subplots(figsize=(6, 9))\n",
    "cmap = sns.diverging_palette(200, 20, as_cmap=True)\n",
    "sns.heatmap(corr, mask=mask, cmap=cmap, vmax=1, center=0,\n",
    "            square=True, linewidths=.5, cbar_kws={\"shrink\": .5});"
   ]
  },
  {
   "cell_type": "code",
   "execution_count": 16,
   "metadata": {},
   "outputs": [],
   "source": [
    "X = df.drop(['quality'],axis =1)\n",
    "y = df['quality']"
   ]
  },
  {
   "cell_type": "markdown",
   "metadata": {},
   "source": [
    "Здесь мы находим подходящую разбивку test_size, но можно было этого и не делать"
   ]
  },
  {
   "cell_type": "code",
   "execution_count": 17,
   "metadata": {},
   "outputs": [],
   "source": [
    "# score_train = np.array([])\n",
    "# score_test = np.array([])\n",
    "# for z in np.arange(0.05,0.5,0.05):\n",
    "#     for i in range(10):\n",
    "#         X_train, X_test, y_train, y_test = train_test_split(X,y, test_size = z, stratify = y, random_state = 42)\n",
    "#         pipe = Pipeline([('preprocessing', StandardScaler()),\n",
    "#                 ('classifier', KNeighborsClassifier())])\n",
    "#         pipe.fit(X_train, y_train)\n",
    "#         score_train = np.append(score_train,pipe.score(X_train , y_train))\n",
    "#         score_test = np.append(score_test, pipe.score(X_test, y_test))\n",
    "#     print(\"Среднее качество на трейне при test_size \", z, \":\", np.mean(score_train))\n",
    "#     print(\"Среднее качество на тесте при test_size \", z, \":\", np.mean(score_test))\n",
    "#     print(\"Разница между качеством train и test: \", np.mean(score_train)-np.mean(score_test))\n",
    "#     print()"
   ]
  },
  {
   "cell_type": "code",
   "execution_count": 18,
   "metadata": {},
   "outputs": [],
   "source": [
    "X_train, X_test, y_train, y_test = train_test_split(X,y, test_size = 0.25, stratify = y)"
   ]
  },
  {
   "cell_type": "markdown",
   "metadata": {},
   "source": [
    "Сейчас мы будем прицеливаться к модели, которую будем использовать для нашего обучения. Для этого сделаем стандартный пайплайн, уже с выбранным препроцессингом (рабаст скалер) + модель соседей для классификации. За фитим и посмотрим score на трейне и на тесте.\n",
    "\n",
    "### При этом мы должны определиться с метрикой. Цель работы : \"научиться приобретать вино качеством от 7 и более (7, 8 и т.д.)\". \n",
    "\n",
    "Это означает, что наша задача максимизировать действительно хорошие вина, которые предсказаны как хорошие. И минимизировать действительно плохие вина, которые предсказаны как хорошие. При этом нам будет все равно, если хорошее вино предскажется как плохое (клиент купив такое вино точно не пострадает :) ). И так это метрика - precision.  "
   ]
  },
  {
   "cell_type": "code",
   "execution_count": 19,
   "metadata": {},
   "outputs": [
    {
     "name": "stdout",
     "output_type": "stream",
     "text": [
      "0.7541436464088398\n",
      "0.5853658536585366\n",
      "0.8710368466152528\n",
      "0.8189987163029525\n"
     ]
    }
   ],
   "source": [
    "pipe = Pipeline(steps=[('preprocessing', RobustScaler()),\n",
    "                ('regressor',\n",
    "                 KNeighborsRegressor())])\n",
    "pipe.fit(X_train_new,y_train)\n",
    "y_pred_train = pipe.predict(X_train)\n",
    "y_pred_test = pipe.predict(X_test)\n",
    "\n",
    "print(precision_score(y_train, y_pred_train))\n",
    "print(precision_score(y_test,y_pred_test))\n",
    "\n",
    "#ради интереса сделаем акураси\n",
    "print(accuracy_score(y_train,y_pred_train))\n",
    "print(accuracy_score(y_test,y_pred_test))"
   ]
  },
  {
   "cell_type": "markdown",
   "metadata": {},
   "source": [
    "Теперь делаем здоровую сетку с перекрестной проверкой через StratifiedKFold (позволяет разбивать обучающие и поверочные сплиты с учетом дисбаланса классов, который у нас присутствует). "
   ]
  },
  {
   "cell_type": "code",
   "execution_count": null,
   "metadata": {},
   "outputs": [],
   "source": [
    "from sklearn.model_selection import StratifiedKFold, StratifiedShuffleSplit\n",
    "pipe = Pipeline([('preprocessing', StandardScaler()),\n",
    "                ('classifier', KNeighborsClassifier())])\n",
    "\n",
    "n_neighbors  = np.arange(120,190,1)\n",
    "p= [2,4,5,6,7,9]\n",
    "weights = ['distance']\n",
    "\n",
    "param_grid = [\n",
    "    {'preprocessing': [RobustScaler(), Normalizer()],\n",
    "    'classifier': [KNeighborsClassifier()],\n",
    "     'classifier__n_neighbors': n_neighbors,\n",
    "     'classifier__p': p,\n",
    "     'classifier__weights': weights\n",
    "#      'classifier__n_jobs': [-1] # задействовать все процессы\n",
    "    }\n",
    "] #решетка\n",
    "\n",
    "\n",
    "# cross_val = StratifiedShuffleSplit(n_splits=3)\n",
    "cross_val = StratifiedKFold(n_splits=5, shuffle=True)\n",
    "\n",
    "grid = GridSearchCV(pipe,param_grid, cv=cross_val,\n",
    "                    return_train_score = True, scoring = 'precision',\n",
    "                   n_jobs = -1) # решетчатый поиск\n",
    "\n",
    "# for i in tqdm([1,2,3]):\n",
    "grid.fit(X_train, y_train)"
   ]
  },
  {
   "cell_type": "code",
   "execution_count": null,
   "metadata": {},
   "outputs": [],
   "source": [
    "pd.DataFrame(grid.cv_results_).sort_values(['rank_test_score'], ascending = [True]).T"
   ]
  },
  {
   "cell_type": "markdown",
   "metadata": {},
   "source": [
    "Лучшая модель после выполнения очередной сетки имеет следующие параметры:\n",
    "\n",
    "    Pipeline(steps=[('preprocessing', RobustScaler()),\n",
    "                ('classifier',\n",
    "                 KNeighborsClassifier(n_neighbors=184, p=6,\n",
    "                                      weights='distance'))])\n",
    "                                      \n",
    "Ее мы и будем использовать для обучения"
   ]
  },
  {
   "cell_type": "code",
   "execution_count": null,
   "metadata": {},
   "outputs": [],
   "source": [
    "grid.best_estimator_ "
   ]
  },
  {
   "cell_type": "code",
   "execution_count": 20,
   "metadata": {},
   "outputs": [
    {
     "name": "stdout",
     "output_type": "stream",
     "text": [
      "1.0\n",
      "0.8181818181818182\n",
      "1.0\n",
      "0.8010269576379975\n"
     ]
    }
   ],
   "source": [
    "pipe_best = Pipeline(steps=[('preprocessing', RobustScaler()),\n",
    "                ('classifier',\n",
    "                 KNeighborsClassifier(n_neighbors=184, p=6,\n",
    "                                      weights='distance'))])\n",
    "\n",
    "pipe_best.fit(X_train,y_train)\n",
    "\n",
    "y_pred_train = pipe_best.predict(X_train)\n",
    "y_pred_test = pipe_best.predict(X_test)\n",
    "\n",
    "print(precision_score(y_train,y_pred_train))\n",
    "print(precision_score(y_test,y_pred_test))\n",
    "\n",
    "# для интереса посмотрим акураси\n",
    "print(pipe_best.score(X_train,y_train))\n",
    "print(pipe_best.score(X_test,y_test))"
   ]
  },
  {
   "cell_type": "markdown",
   "metadata": {},
   "source": [
    "Confusion матрица для train и для test"
   ]
  },
  {
   "cell_type": "code",
   "execution_count": 21,
   "metadata": {},
   "outputs": [
    {
     "data": {
      "image/png": "[encoded data removed]",
      "text/plain": [
       "<Figure size 640x480 with 2 Axes>"
      ]
     },
     "metadata": {},
     "output_type": "display_data"
    }
   ],
   "source": [
    "ConfusionMatrixDisplay(confusion_matrix(y_train,y_pred_train)).plot();"
   ]
  },
  {
   "cell_type": "code",
   "execution_count": 22,
   "metadata": {},
   "outputs": [
    {
     "data": {
      "image/png": "[encoded data removed]",
      "text/plain": [
       "<Figure size 640x480 with 1 Axes>"
      ]
     },
     "metadata": {},
     "output_type": "display_data"
    }
   ],
   "source": [
    "PrecisionRecallDisplay.from_estimator(pipe_best, X_train, y_train);"
   ]
  },
  {
   "cell_type": "code",
   "execution_count": 23,
   "metadata": {},
   "outputs": [
    {
     "data": {
      "image/png": "[encoded data removed]",
      "text/plain": [
       "<Figure size 640x480 with 2 Axes>"
      ]
     },
     "metadata": {},
     "output_type": "display_data"
    }
   ],
   "source": [
    "ConfusionMatrixDisplay(confusion_matrix(y_test,y_pred_test)).plot();"
   ]
  },
  {
   "cell_type": "code",
   "execution_count": 24,
   "metadata": {},
   "outputs": [
    {
     "data": {
      "image/png": "[encoded data removed]",
      "text/plain": [
       "<Figure size 640x480 with 1 Axes>"
      ]
     },
     "metadata": {},
     "output_type": "display_data"
    }
   ],
   "source": [
    "PrecisionRecallDisplay.from_estimator(pipe_best, X_test, y_test);"
   ]
  },
  {
   "cell_type": "markdown",
   "metadata": {},
   "source": [
    "### Область работы 3 (выполнение лучшей модели)"
   ]
  },
  {
   "cell_type": "code",
   "execution_count": 25,
   "metadata": {},
   "outputs": [],
   "source": [
    "# Данный блок(и) в области 3 выполняется преподавателем\n",
    "#\n",
    "# В области находится одна, единственная, итоговая модель машинного обучения с однозначными, \n",
    "# зафиксированными параметрами\n",
    "#\n",
    "# В данной области категорически запрещается искать, выбирать, улучшать, оптимизировать, \n",
    "# тюниговать и т.д. модель машинного обучения"
   ]
  },
  {
   "cell_type": "code",
   "execution_count": 26,
   "metadata": {},
   "outputs": [],
   "source": [
    "# Путь к тренировочному набору\n",
    "path_train = 'wine_train.csv' # содержит только имя файла, без имен папок\n",
    "# Путь к тестовому набору\n",
    "path_test  = 'wine_test.csv' # содержит только имя файла, без имен папок\n",
    "\n",
    "df_train = pd.read_csv(path_train)\n",
    "X_test = pd.read_csv(path_test)\n",
    "\n",
    "X_train = df_train.drop(['quality'], axis = 1)\n",
    "y_train = np.where(df_train.quality>=7, 1, 0)"
   ]
  },
  {
   "cell_type": "code",
   "execution_count": 27,
   "metadata": {},
   "outputs": [
    {
     "name": "stdout",
     "output_type": "stream",
     "text": [
      "При n_neighbors 184 precision на трейне:  1.0\n"
     ]
    },
    {
     "data": {
      "text/plain": [
       "array([0.95833333, 0.92647059, 0.9       , 0.95918367, 0.953125  ])"
      ]
     },
     "execution_count": 27,
     "metadata": {},
     "output_type": "execute_result"
    }
   ],
   "source": [
    "# Блок(и) обучения и поверки модели\n",
    "pipe_final = Pipeline(steps=[('preprocessing', RobustScaler()),\n",
    "                ('classifier',\n",
    "                 KNeighborsClassifier(n_neighbors=184, p=6,\n",
    "                                      weights='distance'))])\n",
    "pipe_final.fit(X_train,y_train)\n",
    "y_predict_train = pipe_final.predict(X_train)\n",
    "print(\"При n_neighbors 184 precision на трейне: \", precision_score(y_train, y_predict_train))\n",
    "# ПОВЕРКА\n",
    "cv = StratifiedKFold(n_splits=5, shuffle=True)\n",
    "cross_val_score(pipe_final, X_train, y_train, cv=cv, scoring = 'precision')"
   ]
  },
  {
   "cell_type": "code",
   "execution_count": 28,
   "metadata": {},
   "outputs": [],
   "source": [
    "# Блок предсказания с использованием тестового набора"
   ]
  },
  {
   "cell_type": "code",
   "execution_count": 29,
   "metadata": {},
   "outputs": [],
   "source": [
    "# Название вектора предсказанных значений  y_predict полученого на основании тестового набора\n",
    "y_predict = pipe_final.predict(X_test)"
   ]
  },
  {
   "cell_type": "code",
   "execution_count": null,
   "metadata": {},
   "outputs": [],
   "source": [
    "# y_true =\n"
   ]
  },
  {
   "cell_type": "code",
   "execution_count": null,
   "metadata": {},
   "outputs": [],
   "source": [
    "# # Можно раскомментить и просмотреть скор и матрицу\n",
    "\n",
    "# print(precision_score(y_true, y_predict))\n",
    "# ConfusionMatrixDisplay(confusion_matrix(y_true,y_predict)).plot();"
   ]
  }
 ],
 "metadata": {
  "kernelspec": {
   "display_name": "Python 3 (ipykernel)",
   "language": "python",
   "name": "python3"
  },
  "language_info": {
   "codemirror_mode": {
    "name": "ipython",
    "version": 3
   },
   "file_extension": ".py",
   "mimetype": "text/x-python",
   "name": "python",
   "nbconvert_exporter": "python",
   "pygments_lexer": "ipython3",
   "version": "3.9.12"
  }
 },
 "nbformat": 4,
 "nbformat_minor": 2
}
